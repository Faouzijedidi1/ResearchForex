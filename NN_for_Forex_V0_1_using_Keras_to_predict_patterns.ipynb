{
  "nbformat": 4,
  "nbformat_minor": 0,
  "metadata": {
    "colab": {
      "name": "NN for Forex V0.1 using Keras to predict patterns.ipynb",
      "provenance": [],
      "authorship_tag": "ABX9TyO7+FH+LChPMMoFAVA/h/ou",
      "include_colab_link": true
    },
    "kernelspec": {
      "name": "python3",
      "display_name": "Python 3"
    }
  },
  "cells": [
    {
      "cell_type": "markdown",
      "metadata": {
        "id": "view-in-github",
        "colab_type": "text"
      },
      "source": [
        "<a href=\"https://colab.research.google.com/github/Faouzijedidi1/ResearchForex/blob/master/NN_for_Forex_V0_1_using_Keras_to_predict_patterns.ipynb\" target=\"_parent\"><img src=\"https://colab.research.google.com/assets/colab-badge.svg\" alt=\"Open In Colab\"/></a>"
      ]
    },
    {
      "cell_type": "code",
      "metadata": {
        "id": "-Y-jjltdQjCM",
        "colab_type": "code",
        "colab": {
          "base_uri": "https://localhost:8080/",
          "height": 102
        },
        "outputId": "95f7098b-246f-4d91-b5ef-3f19083f6e92"
      },
      "source": [
        "import matplotlib\n",
        "import numpy as np\n",
        "import pandas as pd\n",
        "import itertools\n",
        "import sklearn\n",
        "import keras\n",
        "import time\n",
        "import shap\n",
        "\n",
        "\n",
        "from keras.models import Sequential\n",
        "import keras.layers\n",
        "from matplotlib import pyplot as plt\n",
        "from sklearn import preprocessing\n",
        "\n",
        "from sklearn.model_selection import train_test_split\n",
        "import matplotlib.pyplot as plt\n",
        "import matplotlib.ticker as mticker\n",
        "from mplfinance.original_flavor import candlestick_ohlc\n",
        "\n",
        "\n",
        "print('Numpy version: ' + np.__version__)\n",
        "print('Pandas version: ' + pd.__version__)\n",
        "print('Matplotlib version: ' + matplotlib.__version__)\n",
        "print('Sklearn version: ' + sklearn.__version__)\n",
        "print('Keras version: ' + keras.__version__)"
      ],
      "execution_count": 5,
      "outputs": [
        {
          "output_type": "stream",
          "text": [
            "Numpy version: 1.18.5\n",
            "Pandas version: 1.0.5\n",
            "Matplotlib version: 3.2.2\n",
            "Sklearn version: 0.22.2.post1\n",
            "Keras version: 2.3.1\n"
          ],
          "name": "stdout"
        }
      ]
    },
    {
      "cell_type": "code",
      "metadata": {
        "id": "cYj-bWd3RM44",
        "colab_type": "code",
        "colab": {}
      },
      "source": [
        "class MeasureTime:\n",
        "    def __init__(self):\n",
        "        self.start = time.time()\n",
        "    def kill(self):\n",
        "        print ('Time elapsed: ' + time.strftime(\"%H:%M:%S\", time.gmtime(time.time()-self.start)))\n",
        "        del self"
      ],
      "execution_count": 6,
      "outputs": []
    },
    {
      "cell_type": "code",
      "metadata": {
        "id": "awsb_1w1RQ41",
        "colab_type": "code",
        "colab": {
          "base_uri": "https://localhost:8080/",
          "height": 204
        },
        "outputId": "4948b437-ae7f-4970-a5a6-2613b53cf509"
      },
      "source": [
        "my_dataset = pd.read_csv('EURUSD_Candlestick_1_Hour_2014-2020.csv')\n",
        "my_dataset.tail()"
      ],
      "execution_count": 9,
      "outputs": [
        {
          "output_type": "execute_result",
          "data": {
            "text/html": [
              "<div>\n",
              "<style scoped>\n",
              "    .dataframe tbody tr th:only-of-type {\n",
              "        vertical-align: middle;\n",
              "    }\n",
              "\n",
              "    .dataframe tbody tr th {\n",
              "        vertical-align: top;\n",
              "    }\n",
              "\n",
              "    .dataframe thead th {\n",
              "        text-align: right;\n",
              "    }\n",
              "</style>\n",
              "<table border=\"1\" class=\"dataframe\">\n",
              "  <thead>\n",
              "    <tr style=\"text-align: right;\">\n",
              "      <th></th>\n",
              "      <th>Local time</th>\n",
              "      <th>Open</th>\n",
              "      <th>High</th>\n",
              "      <th>Low</th>\n",
              "      <th>Close</th>\n",
              "      <th>Volume</th>\n",
              "    </tr>\n",
              "  </thead>\n",
              "  <tbody>\n",
              "    <tr>\n",
              "      <th>41083</th>\n",
              "      <td>24.07.2020 20:00:00.000 GMT+0400</td>\n",
              "      <td>1.16343</td>\n",
              "      <td>1.16377</td>\n",
              "      <td>1.16287</td>\n",
              "      <td>1.16349</td>\n",
              "      <td>22046.7496</td>\n",
              "    </tr>\n",
              "    <tr>\n",
              "      <th>41084</th>\n",
              "      <td>24.07.2020 21:00:00.000 GMT+0400</td>\n",
              "      <td>1.16348</td>\n",
              "      <td>1.16445</td>\n",
              "      <td>1.16344</td>\n",
              "      <td>1.16406</td>\n",
              "      <td>7895.3100</td>\n",
              "    </tr>\n",
              "    <tr>\n",
              "      <th>41085</th>\n",
              "      <td>24.07.2020 22:00:00.000 GMT+0400</td>\n",
              "      <td>1.16406</td>\n",
              "      <td>1.16475</td>\n",
              "      <td>1.16361</td>\n",
              "      <td>1.16361</td>\n",
              "      <td>10610.1401</td>\n",
              "    </tr>\n",
              "    <tr>\n",
              "      <th>41086</th>\n",
              "      <td>24.07.2020 23:00:00.000 GMT+0400</td>\n",
              "      <td>1.16360</td>\n",
              "      <td>1.16422</td>\n",
              "      <td>1.16342</td>\n",
              "      <td>1.16411</td>\n",
              "      <td>7011.3300</td>\n",
              "    </tr>\n",
              "    <tr>\n",
              "      <th>41087</th>\n",
              "      <td>25.07.2020 00:00:00.000 GMT+0400</td>\n",
              "      <td>1.16411</td>\n",
              "      <td>1.16580</td>\n",
              "      <td>1.16407</td>\n",
              "      <td>1.16546</td>\n",
              "      <td>3845.4886</td>\n",
              "    </tr>\n",
              "  </tbody>\n",
              "</table>\n",
              "</div>"
            ],
            "text/plain": [
              "                             Local time     Open  ...    Close      Volume\n",
              "41083  24.07.2020 20:00:00.000 GMT+0400  1.16343  ...  1.16349  22046.7496\n",
              "41084  24.07.2020 21:00:00.000 GMT+0400  1.16348  ...  1.16406   7895.3100\n",
              "41085  24.07.2020 22:00:00.000 GMT+0400  1.16406  ...  1.16361  10610.1401\n",
              "41086  24.07.2020 23:00:00.000 GMT+0400  1.16360  ...  1.16411   7011.3300\n",
              "41087  25.07.2020 00:00:00.000 GMT+0400  1.16411  ...  1.16546   3845.4886\n",
              "\n",
              "[5 rows x 6 columns]"
            ]
          },
          "metadata": {
            "tags": []
          },
          "execution_count": 9
        }
      ]
    }
  ]
}